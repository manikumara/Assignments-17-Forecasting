{
 "cells": [
  {
   "cell_type": "markdown",
   "metadata": {
    "ExecuteTime": {
     "end_time": "2022-02-24T17:29:12.086019Z",
     "start_time": "2022-02-24T17:29:12.072029Z"
    }
   },
   "source": [
    "## Forecasting assignment- Q2"
   ]
  },
  {
   "cell_type": "markdown",
   "metadata": {
    "ExecuteTime": {
     "end_time": "2022-02-24T17:28:31.408220Z",
     "start_time": "2022-02-24T17:28:31.400225Z"
    }
   },
   "source": [
    "###  Q. Forecast the CocaCola prices data set."
   ]
  },
  {
   "cell_type": "code",
   "execution_count": 1,
   "metadata": {
    "ExecuteTime": {
     "end_time": "2022-02-26T19:30:43.473333Z",
     "start_time": "2022-02-26T19:30:43.459340Z"
    }
   },
   "outputs": [],
   "source": [
    "import warnings\n",
    "warnings.filterwarnings(\"ignore\")"
   ]
  },
  {
   "cell_type": "code",
   "execution_count": 2,
   "metadata": {
    "ExecuteTime": {
     "end_time": "2022-02-26T19:30:47.222632Z",
     "start_time": "2022-02-26T19:30:43.477327Z"
    }
   },
   "outputs": [],
   "source": [
    "#import required libraries\n",
    "import pandas as pd\n",
    "import numpy as np\n",
    "import matplotlib.pyplot as plt\n",
    "from statsmodels.tsa.seasonal import seasonal_decompose #Splitting plots(Trend, Season)\n",
    "from statsmodels.tsa.stattools import adfuller # Checking for stationarity in data\n",
    "from statsmodels.tsa.statespace.tools import diff # Order differenciating\n",
    "import statsmodels.graphics.tsaplots as sgt #PACF and ACF plots\n",
    "from statsmodels.tsa.arima_model import ARMA #for AR and MA models\n",
    "from scipy.stats.distributions import chi2 # Using it in LLR test(Log-likliyhood ratio)\n",
    "from statsmodels.tsa.arima_model import ARIMA #for ARIMA models\n",
    "from sklearn.metrics import mean_squared_error #for finding RMSE\n",
    "from math import sqrt\n"
   ]
  },
  {
   "cell_type": "code",
   "execution_count": 3,
   "metadata": {
    "ExecuteTime": {
     "end_time": "2022-02-26T19:30:47.318528Z",
     "start_time": "2022-02-26T19:30:47.228580Z"
    }
   },
   "outputs": [
    {
     "data": {
      "text/html": [
       "<div>\n",
       "<style scoped>\n",
       "    .dataframe tbody tr th:only-of-type {\n",
       "        vertical-align: middle;\n",
       "    }\n",
       "\n",
       "    .dataframe tbody tr th {\n",
       "        vertical-align: top;\n",
       "    }\n",
       "\n",
       "    .dataframe thead th {\n",
       "        text-align: right;\n",
       "    }\n",
       "</style>\n",
       "<table border=\"1\" class=\"dataframe\">\n",
       "  <thead>\n",
       "    <tr style=\"text-align: right;\">\n",
       "      <th></th>\n",
       "      <th>Sales</th>\n",
       "    </tr>\n",
       "    <tr>\n",
       "      <th>Quarter</th>\n",
       "      <th></th>\n",
       "    </tr>\n",
       "  </thead>\n",
       "  <tbody>\n",
       "    <tr>\n",
       "      <td>Q1_86</td>\n",
       "      <td>1734.827000</td>\n",
       "    </tr>\n",
       "    <tr>\n",
       "      <td>Q2_86</td>\n",
       "      <td>2244.960999</td>\n",
       "    </tr>\n",
       "    <tr>\n",
       "      <td>Q3_86</td>\n",
       "      <td>2533.804993</td>\n",
       "    </tr>\n",
       "    <tr>\n",
       "      <td>Q4_86</td>\n",
       "      <td>2154.962997</td>\n",
       "    </tr>\n",
       "    <tr>\n",
       "      <td>Q1_87</td>\n",
       "      <td>1547.818996</td>\n",
       "    </tr>\n",
       "  </tbody>\n",
       "</table>\n",
       "</div>"
      ],
      "text/plain": [
       "               Sales\n",
       "Quarter             \n",
       "Q1_86    1734.827000\n",
       "Q2_86    2244.960999\n",
       "Q3_86    2533.804993\n",
       "Q4_86    2154.962997\n",
       "Q1_87    1547.818996"
      ]
     },
     "execution_count": 3,
     "metadata": {},
     "output_type": "execute_result"
    }
   ],
   "source": [
    "# Read the file and data\n",
    "data= pd.read_excel('CocaCola_Sales_Rawdata.xlsx',parse_dates= True, index_col='Quarter')\n",
    "data.index.freq='QS'\n",
    "data.dropna(inplace = True)\n",
    "data.head()"
   ]
  },
  {
   "cell_type": "code",
   "execution_count": 4,
   "metadata": {
    "ExecuteTime": {
     "end_time": "2022-02-26T19:30:47.682302Z",
     "start_time": "2022-02-26T19:30:47.325521Z"
    }
   },
   "outputs": [
    {
     "name": "stdout",
     "output_type": "stream",
     "text": [
      "<class 'pandas.core.frame.DataFrame'>\n",
      "Index: 42 entries, Q1_86 to Q2_96\n",
      "Data columns (total 1 columns):\n",
      "Sales    42 non-null float64\n",
      "dtypes: float64(1)\n",
      "memory usage: 672.0+ bytes\n"
     ]
    }
   ],
   "source": [
    "data.info()"
   ]
  },
  {
   "cell_type": "code",
   "execution_count": 5,
   "metadata": {
    "ExecuteTime": {
     "end_time": "2022-02-26T19:30:48.178365Z",
     "start_time": "2022-02-26T19:30:47.693283Z"
    }
   },
   "outputs": [
    {
     "data": {
      "text/plain": [
       "<matplotlib.axes._subplots.AxesSubplot at 0x19f757e9208>"
      ]
     },
     "execution_count": 5,
     "metadata": {},
     "output_type": "execute_result"
    },
    {
     "data": {
      "image/png": "[encoded data removed]",
      "text/plain": [
       "<Figure size 432x288 with 1 Axes>"
      ]
     },
     "metadata": {
      "needs_background": "light"
     },
     "output_type": "display_data"
    }
   ],
   "source": [
    "#Plot the data\n",
    "data.plot()"
   ]
  },
  {
   "cell_type": "code",
   "execution_count": 6,
   "metadata": {
    "ExecuteTime": {
     "end_time": "2022-02-26T19:30:49.709425Z",
     "start_time": "2022-02-26T19:30:48.183363Z"
    }
   },
   "outputs": [
    {
     "data": {
      "image/png": "[encoded data removed]",
      "text/plain": [
       "<Figure size 432x288 with 4 Axes>"
      ]
     },
     "metadata": {
      "needs_background": "light"
     },
     "output_type": "display_data"
    }
   ],
   "source": [
    "# Splitting the plots for better understanding\n",
    "decompose= seasonal_decompose(data.Sales,freq=3,model='additive').plot()"
   ]
  },
  {
   "cell_type": "code",
   "execution_count": 7,
   "metadata": {
    "ExecuteTime": {
     "end_time": "2022-02-26T19:30:49.724413Z",
     "start_time": "2022-02-26T19:30:49.714420Z"
    }
   },
   "outputs": [],
   "source": [
    "#Function for checking the stationarity\n",
    "def adf_test(series):    \n",
    "    result = adfuller(series.dropna())  \n",
    "    labels = ['ADF test statistic','p-value','# lags used','# observations']\n",
    "    out = pd.Series(result[0:4],index=labels)\n",
    "    #for key,val in result[4].items():\n",
    "        #out[f'critical value ({key})']=val\n",
    "    if result[1] <= 0.05:\n",
    "        print(\"Reject the null hypothesis\")\n",
    "        print(\"Data is stationary\")\n",
    "    else:\n",
    "        print(\"Fail to reject the null hypothesis\")\n",
    "        print(\"Data is non-stationary\")"
   ]
  },
  {
   "cell_type": "code",
   "execution_count": 8,
   "metadata": {
    "ExecuteTime": {
     "end_time": "2022-02-26T19:30:49.946025Z",
     "start_time": "2022-02-26T19:30:49.736408Z"
    }
   },
   "outputs": [
    {
     "name": "stdout",
     "output_type": "stream",
     "text": [
      "Fail to reject the null hypothesis\n",
      "Data is non-stationary\n"
     ]
    }
   ],
   "source": [
    "#Checking the stationarity of sales\n",
    "adf_test(data.Sales)"
   ]
  },
  {
   "cell_type": "code",
   "execution_count": 9,
   "metadata": {
    "ExecuteTime": {
     "end_time": "2022-02-26T19:30:50.057955Z",
     "start_time": "2022-02-26T19:30:49.966013Z"
    }
   },
   "outputs": [],
   "source": [
    "# Do first order differencing"
   ]
  },
  {
   "cell_type": "code",
   "execution_count": 10,
   "metadata": {
    "ExecuteTime": {
     "end_time": "2022-02-26T19:30:50.231930Z",
     "start_time": "2022-02-26T19:30:50.061954Z"
    }
   },
   "outputs": [
    {
     "name": "stdout",
     "output_type": "stream",
     "text": [
      "Fail to reject the null hypothesis\n",
      "Data is non-stationary\n"
     ]
    }
   ],
   "source": [
    "data['d1'] = diff(data['Sales'],k_diff=1)\n",
    "adf_test(data['d1'])\n"
   ]
  },
  {
   "cell_type": "code",
   "execution_count": 11,
   "metadata": {
    "ExecuteTime": {
     "end_time": "2022-02-26T19:30:50.295889Z",
     "start_time": "2022-02-26T19:30:50.237925Z"
    }
   },
   "outputs": [],
   "source": [
    "# Do second order differencing"
   ]
  },
  {
   "cell_type": "code",
   "execution_count": 12,
   "metadata": {
    "ExecuteTime": {
     "end_time": "2022-02-26T19:30:50.437437Z",
     "start_time": "2022-02-26T19:30:50.300886Z"
    }
   },
   "outputs": [
    {
     "name": "stdout",
     "output_type": "stream",
     "text": [
      "Reject the null hypothesis\n",
      "Data is stationary\n"
     ]
    }
   ],
   "source": [
    "data['d2'] = diff(data['Sales'],k_diff=2)\n",
    "adf_test(data['d2'])"
   ]
  },
  {
   "cell_type": "markdown",
   "metadata": {
    "ExecuteTime": {
     "end_time": "2022-02-26T16:37:36.851267Z",
     "start_time": "2022-02-26T16:37:36.744337Z"
    }
   },
   "source": [
    "### Check for best AR model manually"
   ]
  },
  {
   "cell_type": "markdown",
   "metadata": {
    "ExecuteTime": {
     "end_time": "2022-02-26T19:30:50.533376Z",
     "start_time": "2022-02-26T19:30:50.445430Z"
    }
   },
   "source": [
    "#### LLR test to validate moving for the next model is worth or not based on the p-value"
   ]
  },
  {
   "cell_type": "code",
   "execution_count": 55,
   "metadata": {
    "ExecuteTime": {
     "end_time": "2022-02-26T19:35:23.175498Z",
     "start_time": "2022-02-26T19:35:23.159510Z"
    }
   },
   "outputs": [],
   "source": [
    "def LLR_test(mod_1, mod_2, DF=1):\n",
    "    L1 = mod_1.llf\n",
    "    L2 = mod_2.llf\n",
    "    LR = (2*(L2-L1))\n",
    "    p = chi2.sf(LR, DF).round(3)\n",
    "    return p"
   ]
  },
  {
   "cell_type": "code",
   "execution_count": 15,
   "metadata": {
    "ExecuteTime": {
     "end_time": "2022-02-26T19:30:50.848608Z",
     "start_time": "2022-02-26T19:30:50.728303Z"
    }
   },
   "outputs": [],
   "source": [
    "## PACF for sales"
   ]
  },
  {
   "cell_type": "code",
   "execution_count": 16,
   "metadata": {
    "ExecuteTime": {
     "end_time": "2022-02-26T19:30:51.355082Z",
     "start_time": "2022-02-26T19:30:50.852617Z"
    }
   },
   "outputs": [
    {
     "data": {
      "image/png": "[encoded data removed]",
      "text/plain": [
       "<Figure size 432x288 with 1 Axes>"
      ]
     },
     "metadata": {
      "needs_background": "light"
     },
     "output_type": "display_data"
    }
   ],
   "source": [
    "sgt.plot_pacf(data.Sales, lags = 40, zero = False, method = ('ols'))\n",
    "plt.title(\"PACF Sales\", size=20)\n",
    "plt.show()"
   ]
  },
  {
   "cell_type": "markdown",
   "metadata": {},
   "source": [
    "### simple AR Models for Sales"
   ]
  },
  {
   "cell_type": "code",
   "execution_count": 17,
   "metadata": {
    "ExecuteTime": {
     "end_time": "2022-02-26T19:30:51.542390Z",
     "start_time": "2022-02-26T19:30:51.359080Z"
    }
   },
   "outputs": [
    {
     "name": "stderr",
     "output_type": "stream",
     "text": [
      "C:\\Users\\hp\\Anaconda3\\lib\\site-packages\\statsmodels\\tsa\\base\\tsa_model.py:215: ValueWarning: An unsupported index was provided and will be ignored when e.g. forecasting.\n",
      "  ' ignored when e.g. forecasting.', ValueWarning)\n"
     ]
    },
    {
     "data": {
      "text/html": [
       "<table class=\"simpletable\">\n",
       "<caption>ARMA Model Results</caption>\n",
       "<tr>\n",
       "  <th>Dep. Variable:</th>       <td>Sales</td>      <th>  No. Observations:  </th>    <td>42</td>   \n",
       "</tr>\n",
       "<tr>\n",
       "  <th>Model:</th>            <td>ARMA(1, 0)</td>    <th>  Log Likelihood     </th> <td>-315.765</td>\n",
       "</tr>\n",
       "<tr>\n",
       "  <th>Method:</th>             <td>css-mle</td>     <th>  S.D. of innovations</th>  <td>434.561</td>\n",
       "</tr>\n",
       "<tr>\n",
       "  <th>Date:</th>          <td>Sun, 27 Feb 2022</td> <th>  AIC                </th>  <td>637.530</td>\n",
       "</tr>\n",
       "<tr>\n",
       "  <th>Time:</th>              <td>01:00:51</td>     <th>  BIC                </th>  <td>642.743</td>\n",
       "</tr>\n",
       "<tr>\n",
       "  <th>Sample:</th>                <td>0</td>        <th>  HQIC               </th>  <td>639.441</td>\n",
       "</tr>\n",
       "<tr>\n",
       "  <th></th>                       <td> </td>        <th>                     </th>     <td> </td>   \n",
       "</tr>\n",
       "</table>\n",
       "<table class=\"simpletable\">\n",
       "<tr>\n",
       "       <td></td>          <th>coef</th>     <th>std err</th>      <th>z</th>      <th>P>|z|</th>  <th>[0.025</th>    <th>0.975]</th>  \n",
       "</tr>\n",
       "<tr>\n",
       "  <th>const</th>       <td> 3200.2588</td> <td>  817.369</td> <td>    3.915</td> <td> 0.000</td> <td> 1598.244</td> <td> 4802.273</td>\n",
       "</tr>\n",
       "<tr>\n",
       "  <th>ar.L1.Sales</th> <td>    0.9365</td> <td>    0.058</td> <td>   16.172</td> <td> 0.000</td> <td>    0.823</td> <td>    1.050</td>\n",
       "</tr>\n",
       "</table>\n",
       "<table class=\"simpletable\">\n",
       "<caption>Roots</caption>\n",
       "<tr>\n",
       "    <td></td>   <th>            Real</th>  <th>         Imaginary</th> <th>         Modulus</th>  <th>        Frequency</th>\n",
       "</tr>\n",
       "<tr>\n",
       "  <th>AR.1</th> <td>           1.0679</td> <td>          +0.0000j</td> <td>           1.0679</td> <td>           0.0000</td>\n",
       "</tr>\n",
       "</table>"
      ],
      "text/plain": [
       "<class 'statsmodels.iolib.summary.Summary'>\n",
       "\"\"\"\n",
       "                              ARMA Model Results                              \n",
       "==============================================================================\n",
       "Dep. Variable:                  Sales   No. Observations:                   42\n",
       "Model:                     ARMA(1, 0)   Log Likelihood                -315.765\n",
       "Method:                       css-mle   S.D. of innovations            434.561\n",
       "Date:                Sun, 27 Feb 2022   AIC                            637.530\n",
       "Time:                        01:00:51   BIC                            642.743\n",
       "Sample:                             0   HQIC                           639.441\n",
       "                                                                              \n",
       "===============================================================================\n",
       "                  coef    std err          z      P>|z|      [0.025      0.975]\n",
       "-------------------------------------------------------------------------------\n",
       "const        3200.2588    817.369      3.915      0.000    1598.244    4802.273\n",
       "ar.L1.Sales     0.9365      0.058     16.172      0.000       0.823       1.050\n",
       "                                    Roots                                    \n",
       "=============================================================================\n",
       "                  Real          Imaginary           Modulus         Frequency\n",
       "-----------------------------------------------------------------------------\n",
       "AR.1            1.0679           +0.0000j            1.0679            0.0000\n",
       "-----------------------------------------------------------------------------\n",
       "\"\"\""
      ]
     },
     "execution_count": 17,
     "metadata": {},
     "output_type": "execute_result"
    }
   ],
   "source": [
    "model_ar1 = ARMA(data.Sales,order=(1,0))\n",
    "result_ar1 = model_ar1.fit()\n",
    "result_ar1.summary()"
   ]
  },
  {
   "cell_type": "markdown",
   "metadata": {},
   "source": [
    "### Higher-Lag AR Models for Sales"
   ]
  },
  {
   "cell_type": "code",
   "execution_count": 18,
   "metadata": {
    "ExecuteTime": {
     "end_time": "2022-02-26T19:30:52.017440Z",
     "start_time": "2022-02-26T19:30:51.547387Z"
    }
   },
   "outputs": [
    {
     "name": "stderr",
     "output_type": "stream",
     "text": [
      "C:\\Users\\hp\\Anaconda3\\lib\\site-packages\\statsmodels\\tsa\\base\\tsa_model.py:215: ValueWarning: An unsupported index was provided and will be ignored when e.g. forecasting.\n",
      "  ' ignored when e.g. forecasting.', ValueWarning)\n"
     ]
    },
    {
     "data": {
      "text/html": [
       "<table class=\"simpletable\">\n",
       "<caption>ARMA Model Results</caption>\n",
       "<tr>\n",
       "  <th>Dep. Variable:</th>       <td>Sales</td>      <th>  No. Observations:  </th>    <td>42</td>   \n",
       "</tr>\n",
       "<tr>\n",
       "  <th>Model:</th>            <td>ARMA(2, 0)</td>    <th>  Log Likelihood     </th> <td>-315.611</td>\n",
       "</tr>\n",
       "<tr>\n",
       "  <th>Method:</th>             <td>css-mle</td>     <th>  S.D. of innovations</th>  <td>432.794</td>\n",
       "</tr>\n",
       "<tr>\n",
       "  <th>Date:</th>          <td>Sun, 27 Feb 2022</td> <th>  AIC                </th>  <td>639.222</td>\n",
       "</tr>\n",
       "<tr>\n",
       "  <th>Time:</th>              <td>01:00:51</td>     <th>  BIC                </th>  <td>646.173</td>\n",
       "</tr>\n",
       "<tr>\n",
       "  <th>Sample:</th>                <td>0</td>        <th>  HQIC               </th>  <td>641.770</td>\n",
       "</tr>\n",
       "<tr>\n",
       "  <th></th>                       <td> </td>        <th>                     </th>     <td> </td>   \n",
       "</tr>\n",
       "</table>\n",
       "<table class=\"simpletable\">\n",
       "<tr>\n",
       "       <td></td>          <th>coef</th>     <th>std err</th>      <th>z</th>      <th>P>|z|</th>  <th>[0.025</th>    <th>0.975]</th>  \n",
       "</tr>\n",
       "<tr>\n",
       "  <th>const</th>       <td> 3213.9696</td> <td>  870.668</td> <td>    3.691</td> <td> 0.001</td> <td> 1507.492</td> <td> 4920.447</td>\n",
       "</tr>\n",
       "<tr>\n",
       "  <th>ar.L1.Sales</th> <td>    0.8489</td> <td>    0.167</td> <td>    5.068</td> <td> 0.000</td> <td>    0.521</td> <td>    1.177</td>\n",
       "</tr>\n",
       "<tr>\n",
       "  <th>ar.L2.Sales</th> <td>    0.0946</td> <td>    0.170</td> <td>    0.557</td> <td> 0.581</td> <td>   -0.238</td> <td>    0.427</td>\n",
       "</tr>\n",
       "</table>\n",
       "<table class=\"simpletable\">\n",
       "<caption>Roots</caption>\n",
       "<tr>\n",
       "    <td></td>   <th>            Real</th>  <th>         Imaginary</th> <th>         Modulus</th>  <th>        Frequency</th>\n",
       "</tr>\n",
       "<tr>\n",
       "  <th>AR.1</th> <td>           1.0543</td> <td>          +0.0000j</td> <td>           1.0543</td> <td>           0.0000</td>\n",
       "</tr>\n",
       "<tr>\n",
       "  <th>AR.2</th> <td>         -10.0321</td> <td>          +0.0000j</td> <td>          10.0321</td> <td>           0.5000</td>\n",
       "</tr>\n",
       "</table>"
      ],
      "text/plain": [
       "<class 'statsmodels.iolib.summary.Summary'>\n",
       "\"\"\"\n",
       "                              ARMA Model Results                              \n",
       "==============================================================================\n",
       "Dep. Variable:                  Sales   No. Observations:                   42\n",
       "Model:                     ARMA(2, 0)   Log Likelihood                -315.611\n",
       "Method:                       css-mle   S.D. of innovations            432.794\n",
       "Date:                Sun, 27 Feb 2022   AIC                            639.222\n",
       "Time:                        01:00:51   BIC                            646.173\n",
       "Sample:                             0   HQIC                           641.770\n",
       "                                                                              \n",
       "===============================================================================\n",
       "                  coef    std err          z      P>|z|      [0.025      0.975]\n",
       "-------------------------------------------------------------------------------\n",
       "const        3213.9696    870.668      3.691      0.001    1507.492    4920.447\n",
       "ar.L1.Sales     0.8489      0.167      5.068      0.000       0.521       1.177\n",
       "ar.L2.Sales     0.0946      0.170      0.557      0.581      -0.238       0.427\n",
       "                                    Roots                                    \n",
       "=============================================================================\n",
       "                  Real          Imaginary           Modulus         Frequency\n",
       "-----------------------------------------------------------------------------\n",
       "AR.1            1.0543           +0.0000j            1.0543            0.0000\n",
       "AR.2          -10.0321           +0.0000j           10.0321            0.5000\n",
       "-----------------------------------------------------------------------------\n",
       "\"\"\""
      ]
     },
     "execution_count": 18,
     "metadata": {},
     "output_type": "execute_result"
    }
   ],
   "source": [
    "model_ar2 = ARMA(data.Sales,order=(2,0))\n",
    "result_ar2 = model_ar2.fit()\n",
    "result_ar2.summary()"
   ]
  },
  {
   "cell_type": "code",
   "execution_count": 19,
   "metadata": {
    "ExecuteTime": {
     "end_time": "2022-02-26T19:30:52.033431Z",
     "start_time": "2022-02-26T19:30:52.021434Z"
    }
   },
   "outputs": [
    {
     "data": {
      "text/plain": [
       "0.579"
      ]
     },
     "execution_count": 19,
     "metadata": {},
     "output_type": "execute_result"
    }
   ],
   "source": [
    "LLR_test(result_ar1, result_ar2)"
   ]
  },
  {
   "cell_type": "code",
   "execution_count": 20,
   "metadata": {
    "ExecuteTime": {
     "end_time": "2022-02-26T19:30:52.731452Z",
     "start_time": "2022-02-26T19:30:52.041422Z"
    }
   },
   "outputs": [
    {
     "name": "stderr",
     "output_type": "stream",
     "text": [
      "C:\\Users\\hp\\Anaconda3\\lib\\site-packages\\statsmodels\\tsa\\base\\tsa_model.py:215: ValueWarning: An unsupported index was provided and will be ignored when e.g. forecasting.\n",
      "  ' ignored when e.g. forecasting.', ValueWarning)\n"
     ]
    },
    {
     "data": {
      "text/html": [
       "<table class=\"simpletable\">\n",
       "<caption>ARMA Model Results</caption>\n",
       "<tr>\n",
       "  <th>Dep. Variable:</th>       <td>Sales</td>      <th>  No. Observations:  </th>    <td>42</td>   \n",
       "</tr>\n",
       "<tr>\n",
       "  <th>Model:</th>            <td>ARMA(3, 0)</td>    <th>  Log Likelihood     </th> <td>-306.519</td>\n",
       "</tr>\n",
       "<tr>\n",
       "  <th>Method:</th>             <td>css-mle</td>     <th>  S.D. of innovations</th>  <td>341.938</td>\n",
       "</tr>\n",
       "<tr>\n",
       "  <th>Date:</th>          <td>Sun, 27 Feb 2022</td> <th>  AIC                </th>  <td>623.038</td>\n",
       "</tr>\n",
       "<tr>\n",
       "  <th>Time:</th>              <td>01:00:52</td>     <th>  BIC                </th>  <td>631.727</td>\n",
       "</tr>\n",
       "<tr>\n",
       "  <th>Sample:</th>                <td>0</td>        <th>  HQIC               </th>  <td>626.223</td>\n",
       "</tr>\n",
       "<tr>\n",
       "  <th></th>                       <td> </td>        <th>                     </th>     <td> </td>   \n",
       "</tr>\n",
       "</table>\n",
       "<table class=\"simpletable\">\n",
       "<tr>\n",
       "       <td></td>          <th>coef</th>     <th>std err</th>      <th>z</th>      <th>P>|z|</th>  <th>[0.025</th>    <th>0.975]</th>  \n",
       "</tr>\n",
       "<tr>\n",
       "  <th>const</th>       <td> 3357.2383</td> <td> 1152.266</td> <td>    2.914</td> <td> 0.006</td> <td> 1098.838</td> <td> 5615.638</td>\n",
       "</tr>\n",
       "<tr>\n",
       "  <th>ar.L1.Sales</th> <td>    0.7903</td> <td>    0.134</td> <td>    5.877</td> <td> 0.000</td> <td>    0.527</td> <td>    1.054</td>\n",
       "</tr>\n",
       "<tr>\n",
       "  <th>ar.L2.Sales</th> <td>   -0.4513</td> <td>    0.174</td> <td>   -2.596</td> <td> 0.013</td> <td>   -0.792</td> <td>   -0.111</td>\n",
       "</tr>\n",
       "<tr>\n",
       "  <th>ar.L3.Sales</th> <td>    0.6411</td> <td>    0.127</td> <td>    5.030</td> <td> 0.000</td> <td>    0.391</td> <td>    0.891</td>\n",
       "</tr>\n",
       "</table>\n",
       "<table class=\"simpletable\">\n",
       "<caption>Roots</caption>\n",
       "<tr>\n",
       "    <td></td>   <th>            Real</th>  <th>         Imaginary</th> <th>         Modulus</th>  <th>        Frequency</th>\n",
       "</tr>\n",
       "<tr>\n",
       "  <th>AR.1</th> <td>           1.0109</td> <td>          -0.0000j</td> <td>           1.0109</td> <td>          -0.0000</td>\n",
       "</tr>\n",
       "<tr>\n",
       "  <th>AR.2</th> <td>          -0.1535</td> <td>          -1.2327j</td> <td>           1.2422</td> <td>          -0.2697</td>\n",
       "</tr>\n",
       "<tr>\n",
       "  <th>AR.3</th> <td>          -0.1535</td> <td>          +1.2327j</td> <td>           1.2422</td> <td>           0.2697</td>\n",
       "</tr>\n",
       "</table>"
      ],
      "text/plain": [
       "<class 'statsmodels.iolib.summary.Summary'>\n",
       "\"\"\"\n",
       "                              ARMA Model Results                              \n",
       "==============================================================================\n",
       "Dep. Variable:                  Sales   No. Observations:                   42\n",
       "Model:                     ARMA(3, 0)   Log Likelihood                -306.519\n",
       "Method:                       css-mle   S.D. of innovations            341.938\n",
       "Date:                Sun, 27 Feb 2022   AIC                            623.038\n",
       "Time:                        01:00:52   BIC                            631.727\n",
       "Sample:                             0   HQIC                           626.223\n",
       "                                                                              \n",
       "===============================================================================\n",
       "                  coef    std err          z      P>|z|      [0.025      0.975]\n",
       "-------------------------------------------------------------------------------\n",
       "const        3357.2383   1152.266      2.914      0.006    1098.838    5615.638\n",
       "ar.L1.Sales     0.7903      0.134      5.877      0.000       0.527       1.054\n",
       "ar.L2.Sales    -0.4513      0.174     -2.596      0.013      -0.792      -0.111\n",
       "ar.L3.Sales     0.6411      0.127      5.030      0.000       0.391       0.891\n",
       "                                    Roots                                    \n",
       "=============================================================================\n",
       "                  Real          Imaginary           Modulus         Frequency\n",
       "-----------------------------------------------------------------------------\n",
       "AR.1            1.0109           -0.0000j            1.0109           -0.0000\n",
       "AR.2           -0.1535           -1.2327j            1.2422           -0.2697\n",
       "AR.3           -0.1535           +1.2327j            1.2422            0.2697\n",
       "-----------------------------------------------------------------------------\n",
       "\"\"\""
      ]
     },
     "execution_count": 20,
     "metadata": {},
     "output_type": "execute_result"
    }
   ],
   "source": [
    "model_ar3 = ARMA(data.Sales,order=(3,0))\n",
    "result_ar3 = model_ar3.fit()\n",
    "result_ar3.summary()"
   ]
  },
  {
   "cell_type": "code",
   "execution_count": 21,
   "metadata": {
    "ExecuteTime": {
     "end_time": "2022-02-26T19:30:52.747446Z",
     "start_time": "2022-02-26T19:30:52.736450Z"
    }
   },
   "outputs": [
    {
     "data": {
      "text/plain": [
       "0.0"
      ]
     },
     "execution_count": 21,
     "metadata": {},
     "output_type": "execute_result"
    }
   ],
   "source": [
    "LLR_test(result_ar2, result_ar3)"
   ]
  },
  {
   "cell_type": "code",
   "execution_count": 22,
   "metadata": {
    "ExecuteTime": {
     "end_time": "2022-02-26T19:30:53.714698Z",
     "start_time": "2022-02-26T19:30:52.751440Z"
    }
   },
   "outputs": [
    {
     "name": "stderr",
     "output_type": "stream",
     "text": [
      "C:\\Users\\hp\\Anaconda3\\lib\\site-packages\\statsmodels\\tsa\\base\\tsa_model.py:215: ValueWarning: An unsupported index was provided and will be ignored when e.g. forecasting.\n",
      "  ' ignored when e.g. forecasting.', ValueWarning)\n"
     ]
    },
    {
     "data": {
      "text/html": [
       "<table class=\"simpletable\">\n",
       "<caption>ARMA Model Results</caption>\n",
       "<tr>\n",
       "  <th>Dep. Variable:</th>       <td>Sales</td>      <th>  No. Observations:  </th>    <td>42</td>   \n",
       "</tr>\n",
       "<tr>\n",
       "  <th>Model:</th>            <td>ARMA(4, 0)</td>    <th>  Log Likelihood     </th> <td>-301.856</td>\n",
       "</tr>\n",
       "<tr>\n",
       "  <th>Method:</th>             <td>css-mle</td>     <th>  S.D. of innovations</th>  <td>302.139</td>\n",
       "</tr>\n",
       "<tr>\n",
       "  <th>Date:</th>          <td>Sun, 27 Feb 2022</td> <th>  AIC                </th>  <td>615.713</td>\n",
       "</tr>\n",
       "<tr>\n",
       "  <th>Time:</th>              <td>01:00:53</td>     <th>  BIC                </th>  <td>626.139</td>\n",
       "</tr>\n",
       "<tr>\n",
       "  <th>Sample:</th>                <td>0</td>        <th>  HQIC               </th>  <td>619.534</td>\n",
       "</tr>\n",
       "<tr>\n",
       "  <th></th>                       <td> </td>        <th>                     </th>     <td> </td>   \n",
       "</tr>\n",
       "</table>\n",
       "<table class=\"simpletable\">\n",
       "<tr>\n",
       "       <td></td>          <th>coef</th>     <th>std err</th>      <th>z</th>      <th>P>|z|</th>  <th>[0.025</th>    <th>0.975]</th>  \n",
       "</tr>\n",
       "<tr>\n",
       "  <th>const</th>       <td> 3402.1709</td> <td> 1231.019</td> <td>    2.764</td> <td> 0.009</td> <td>  989.418</td> <td> 5814.924</td>\n",
       "</tr>\n",
       "<tr>\n",
       "  <th>ar.L1.Sales</th> <td>    0.5115</td> <td>    0.146</td> <td>    3.498</td> <td> 0.001</td> <td>    0.225</td> <td>    0.798</td>\n",
       "</tr>\n",
       "<tr>\n",
       "  <th>ar.L2.Sales</th> <td>   -0.2561</td> <td>    0.159</td> <td>   -1.609</td> <td> 0.116</td> <td>   -0.568</td> <td>    0.056</td>\n",
       "</tr>\n",
       "<tr>\n",
       "  <th>ar.L3.Sales</th> <td>    0.2586</td> <td>    0.164</td> <td>    1.573</td> <td> 0.124</td> <td>   -0.064</td> <td>    0.581</td>\n",
       "</tr>\n",
       "<tr>\n",
       "  <th>ar.L4.Sales</th> <td>    0.4756</td> <td>    0.143</td> <td>    3.331</td> <td> 0.002</td> <td>    0.196</td> <td>    0.755</td>\n",
       "</tr>\n",
       "</table>\n",
       "<table class=\"simpletable\">\n",
       "<caption>Roots</caption>\n",
       "<tr>\n",
       "    <td></td>   <th>            Real</th>  <th>         Imaginary</th> <th>         Modulus</th>  <th>        Frequency</th>\n",
       "</tr>\n",
       "<tr>\n",
       "  <th>AR.1</th> <td>           1.0039</td> <td>          -0.0000j</td> <td>           1.0039</td> <td>          -0.0000</td>\n",
       "</tr>\n",
       "<tr>\n",
       "  <th>AR.2</th> <td>           0.0680</td> <td>          -1.1133j</td> <td>           1.1154</td> <td>          -0.2403</td>\n",
       "</tr>\n",
       "<tr>\n",
       "  <th>AR.3</th> <td>           0.0680</td> <td>          +1.1133j</td> <td>           1.1154</td> <td>           0.2403</td>\n",
       "</tr>\n",
       "<tr>\n",
       "  <th>AR.4</th> <td>          -1.6836</td> <td>          -0.0000j</td> <td>           1.6836</td> <td>          -0.5000</td>\n",
       "</tr>\n",
       "</table>"
      ],
      "text/plain": [
       "<class 'statsmodels.iolib.summary.Summary'>\n",
       "\"\"\"\n",
       "                              ARMA Model Results                              \n",
       "==============================================================================\n",
       "Dep. Variable:                  Sales   No. Observations:                   42\n",
       "Model:                     ARMA(4, 0)   Log Likelihood                -301.856\n",
       "Method:                       css-mle   S.D. of innovations            302.139\n",
       "Date:                Sun, 27 Feb 2022   AIC                            615.713\n",
       "Time:                        01:00:53   BIC                            626.139\n",
       "Sample:                             0   HQIC                           619.534\n",
       "                                                                              \n",
       "===============================================================================\n",
       "                  coef    std err          z      P>|z|      [0.025      0.975]\n",
       "-------------------------------------------------------------------------------\n",
       "const        3402.1709   1231.019      2.764      0.009     989.418    5814.924\n",
       "ar.L1.Sales     0.5115      0.146      3.498      0.001       0.225       0.798\n",
       "ar.L2.Sales    -0.2561      0.159     -1.609      0.116      -0.568       0.056\n",
       "ar.L3.Sales     0.2586      0.164      1.573      0.124      -0.064       0.581\n",
       "ar.L4.Sales     0.4756      0.143      3.331      0.002       0.196       0.755\n",
       "                                    Roots                                    \n",
       "=============================================================================\n",
       "                  Real          Imaginary           Modulus         Frequency\n",
       "-----------------------------------------------------------------------------\n",
       "AR.1            1.0039           -0.0000j            1.0039           -0.0000\n",
       "AR.2            0.0680           -1.1133j            1.1154           -0.2403\n",
       "AR.3            0.0680           +1.1133j            1.1154            0.2403\n",
       "AR.4           -1.6836           -0.0000j            1.6836           -0.5000\n",
       "-----------------------------------------------------------------------------\n",
       "\"\"\""
      ]
     },
     "execution_count": 22,
     "metadata": {},
     "output_type": "execute_result"
    }
   ],
   "source": [
    "model_ar4 = ARMA(data.Sales,order=(4,0))\n",
    "result_ar4 = model_ar4.fit()\n",
    "result_ar4.summary()"
   ]
  },
  {
   "cell_type": "code",
   "execution_count": 23,
   "metadata": {
    "ExecuteTime": {
     "end_time": "2022-02-26T19:30:53.745682Z",
     "start_time": "2022-02-26T19:30:53.727693Z"
    }
   },
   "outputs": [
    {
     "data": {
      "text/plain": [
       "0.002"
      ]
     },
     "execution_count": 23,
     "metadata": {},
     "output_type": "execute_result"
    }
   ],
   "source": [
    "LLR_test(result_ar3, result_ar4)"
   ]
  },
  {
   "cell_type": "code",
   "execution_count": 24,
   "metadata": {
    "ExecuteTime": {
     "end_time": "2022-02-26T19:30:57.320014Z",
     "start_time": "2022-02-26T19:30:53.762670Z"
    }
   },
   "outputs": [
    {
     "name": "stderr",
     "output_type": "stream",
     "text": [
      "C:\\Users\\hp\\Anaconda3\\lib\\site-packages\\statsmodels\\tsa\\base\\tsa_model.py:215: ValueWarning: An unsupported index was provided and will be ignored when e.g. forecasting.\n",
      "  ' ignored when e.g. forecasting.', ValueWarning)\n",
      "C:\\Users\\hp\\Anaconda3\\lib\\site-packages\\statsmodels\\base\\model.py:492: HessianInversionWarning: Inverting hessian failed, no bse or cov_params available\n",
      "  'available', HessianInversionWarning)\n",
      "C:\\Users\\hp\\Anaconda3\\lib\\site-packages\\statsmodels\\base\\model.py:512: ConvergenceWarning: Maximum Likelihood optimization failed to converge. Check mle_retvals\n",
      "  \"Check mle_retvals\", ConvergenceWarning)\n"
     ]
    },
    {
     "data": {
      "text/html": [
       "<table class=\"simpletable\">\n",
       "<caption>ARMA Model Results</caption>\n",
       "<tr>\n",
       "  <th>Dep. Variable:</th>       <td>Sales</td>      <th>  No. Observations:  </th>    <td>42</td>   \n",
       "</tr>\n",
       "<tr>\n",
       "  <th>Model:</th>            <td>ARMA(5, 0)</td>    <th>  Log Likelihood     </th> <td>-282.280</td>\n",
       "</tr>\n",
       "<tr>\n",
       "  <th>Method:</th>             <td>css-mle</td>     <th>  S.D. of innovations</th>  <td>164.566</td>\n",
       "</tr>\n",
       "<tr>\n",
       "  <th>Date:</th>          <td>Sun, 27 Feb 2022</td> <th>  AIC                </th>  <td>578.559</td>\n",
       "</tr>\n",
       "<tr>\n",
       "  <th>Time:</th>              <td>01:00:57</td>     <th>  BIC                </th>  <td>590.723</td>\n",
       "</tr>\n",
       "<tr>\n",
       "  <th>Sample:</th>                <td>0</td>        <th>  HQIC               </th>  <td>583.018</td>\n",
       "</tr>\n",
       "<tr>\n",
       "  <th></th>                       <td> </td>        <th>                     </th>     <td> </td>   \n",
       "</tr>\n",
       "</table>\n",
       "<table class=\"simpletable\">\n",
       "<tr>\n",
       "       <td></td>          <th>coef</th>     <th>std err</th>      <th>z</th>      <th>P>|z|</th>  <th>[0.025</th>    <th>0.975]</th>  \n",
       "</tr>\n",
       "<tr>\n",
       "  <th>const</th>       <td> 2.249e+04</td> <td>      nan</td> <td>      nan</td> <td>   nan</td> <td>      nan</td> <td>      nan</td>\n",
       "</tr>\n",
       "<tr>\n",
       "  <th>ar.L1.Sales</th> <td>    0.8920</td> <td>    0.001</td> <td>  706.849</td> <td> 0.000</td> <td>    0.890</td> <td>    0.894</td>\n",
       "</tr>\n",
       "<tr>\n",
       "  <th>ar.L2.Sales</th> <td>   -0.0315</td> <td>    0.028</td> <td>   -1.111</td> <td> 0.274</td> <td>   -0.087</td> <td>    0.024</td>\n",
       "</tr>\n",
       "<tr>\n",
       "  <th>ar.L3.Sales</th> <td>    0.0800</td> <td>    0.028</td> <td>    2.827</td> <td> 0.008</td> <td>    0.025</td> <td>    0.135</td>\n",
       "</tr>\n",
       "<tr>\n",
       "  <th>ar.L4.Sales</th> <td>    0.8912</td> <td>    0.003</td> <td>  274.615</td> <td> 0.000</td> <td>    0.885</td> <td>    0.898</td>\n",
       "</tr>\n",
       "<tr>\n",
       "  <th>ar.L5.Sales</th> <td>   -0.8317</td> <td>    0.003</td> <td> -238.823</td> <td> 0.000</td> <td>   -0.839</td> <td>   -0.825</td>\n",
       "</tr>\n",
       "</table>\n",
       "<table class=\"simpletable\">\n",
       "<caption>Roots</caption>\n",
       "<tr>\n",
       "    <td></td>   <th>            Real</th>  <th>         Imaginary</th> <th>         Modulus</th>  <th>        Frequency</th>\n",
       "</tr>\n",
       "<tr>\n",
       "  <th>AR.1</th> <td>          -1.0396</td> <td>          -0.0000j</td> <td>           1.0396</td> <td>          -0.5000</td>\n",
       "</tr>\n",
       "<tr>\n",
       "  <th>AR.2</th> <td>          -0.0130</td> <td>          -1.0084j</td> <td>           1.0085</td> <td>          -0.2520</td>\n",
       "</tr>\n",
       "<tr>\n",
       "  <th>AR.3</th> <td>          -0.0130</td> <td>          +1.0084j</td> <td>           1.0085</td> <td>           0.2520</td>\n",
       "</tr>\n",
       "<tr>\n",
       "  <th>AR.4</th> <td>           1.0002</td> <td>          -0.0000j</td> <td>           1.0002</td> <td>          -0.0000</td>\n",
       "</tr>\n",
       "<tr>\n",
       "  <th>AR.5</th> <td>           1.1369</td> <td>          -0.0000j</td> <td>           1.1369</td> <td>          -0.0000</td>\n",
       "</tr>\n",
       "</table>"
      ],
      "text/plain": [
       "<class 'statsmodels.iolib.summary.Summary'>\n",
       "\"\"\"\n",
       "                              ARMA Model Results                              \n",
       "==============================================================================\n",
       "Dep. Variable:                  Sales   No. Observations:                   42\n",
       "Model:                     ARMA(5, 0)   Log Likelihood                -282.280\n",
       "Method:                       css-mle   S.D. of innovations            164.566\n",
       "Date:                Sun, 27 Feb 2022   AIC                            578.559\n",
       "Time:                        01:00:57   BIC                            590.723\n",
       "Sample:                             0   HQIC                           583.018\n",
       "                                                                              \n",
       "===============================================================================\n",
       "                  coef    std err          z      P>|z|      [0.025      0.975]\n",
       "-------------------------------------------------------------------------------\n",
       "const        2.249e+04        nan        nan        nan         nan         nan\n",
       "ar.L1.Sales     0.8920      0.001    706.849      0.000       0.890       0.894\n",
       "ar.L2.Sales    -0.0315      0.028     -1.111      0.274      -0.087       0.024\n",
       "ar.L3.Sales     0.0800      0.028      2.827      0.008       0.025       0.135\n",
       "ar.L4.Sales     0.8912      0.003    274.615      0.000       0.885       0.898\n",
       "ar.L5.Sales    -0.8317      0.003   -238.823      0.000      -0.839      -0.825\n",
       "                                    Roots                                    \n",
       "=============================================================================\n",
       "                  Real          Imaginary           Modulus         Frequency\n",
       "-----------------------------------------------------------------------------\n",
       "AR.1           -1.0396           -0.0000j            1.0396           -0.5000\n",
       "AR.2           -0.0130           -1.0084j            1.0085           -0.2520\n",
       "AR.3           -0.0130           +1.0084j            1.0085            0.2520\n",
       "AR.4            1.0002           -0.0000j            1.0002           -0.0000\n",
       "AR.5            1.1369           -0.0000j            1.1369           -0.0000\n",
       "-----------------------------------------------------------------------------\n",
       "\"\"\""
      ]
     },
     "execution_count": 24,
     "metadata": {},
     "output_type": "execute_result"
    }
   ],
   "source": [
    "model_ar5 = ARMA(data.Sales,order=(5,0))\n",
    "result_ar5 = model_ar5.fit()\n",
    "result_ar5.summary()"
   ]
  },
  {
   "cell_type": "code",
   "execution_count": 25,
   "metadata": {
    "ExecuteTime": {
     "end_time": "2022-02-26T19:30:57.350995Z",
     "start_time": "2022-02-26T19:30:57.329008Z"
    }
   },
   "outputs": [],
   "source": [
    "#LLR_test(result_ar4, result_ar5)"
   ]
  },
  {
   "cell_type": "code",
   "execution_count": 26,
   "metadata": {
    "ExecuteTime": {
     "end_time": "2022-02-26T19:30:57.494186Z",
     "start_time": "2022-02-26T19:30:57.355990Z"
    }
   },
   "outputs": [],
   "source": [
    "#model_ar6 = ARMA(data.Sales.dropna(),order=[6,0])\n",
    "#result_ar6 = model_ar6.fit()\n",
    "#result_ar6.summary()\n",
    "# Not executing due the error- LinAlgError: SVD did not converge"
   ]
  },
  {
   "cell_type": "markdown",
   "metadata": {
    "ExecuteTime": {
     "end_time": "2022-02-26T16:37:43.261316Z",
     "start_time": "2022-02-26T16:37:43.172374Z"
    }
   },
   "source": [
    "### Analysing the Residuals"
   ]
  },
  {
   "cell_type": "code",
   "execution_count": 27,
   "metadata": {
    "ExecuteTime": {
     "end_time": "2022-02-26T19:30:57.605252Z",
     "start_time": "2022-02-26T19:30:57.497660Z"
    }
   },
   "outputs": [],
   "source": [
    "data['res_ret'] = result_ar5.resid"
   ]
  },
  {
   "cell_type": "code",
   "execution_count": 28,
   "metadata": {
    "ExecuteTime": {
     "end_time": "2022-02-26T19:30:57.713498Z",
     "start_time": "2022-02-26T19:30:57.609526Z"
    }
   },
   "outputs": [
    {
     "data": {
      "text/plain": [
       "-442.5811336012848"
      ]
     },
     "execution_count": 28,
     "metadata": {},
     "output_type": "execute_result"
    }
   ],
   "source": [
    "# Residual mean\n",
    "data.res_ret.mean()"
   ]
  },
  {
   "cell_type": "code",
   "execution_count": 29,
   "metadata": {
    "ExecuteTime": {
     "end_time": "2022-02-26T19:30:57.885900Z",
     "start_time": "2022-02-26T19:30:57.722491Z"
    }
   },
   "outputs": [
    {
     "data": {
      "text/plain": [
       "10345749.780748976"
      ]
     },
     "execution_count": 29,
     "metadata": {},
     "output_type": "execute_result"
    }
   ],
   "source": [
    "data.res_ret.var()"
   ]
  },
  {
   "cell_type": "markdown",
   "metadata": {
    "ExecuteTime": {
     "end_time": "2022-02-26T16:37:43.703048Z",
     "start_time": "2022-02-26T16:37:43.599114Z"
    }
   },
   "source": [
    "#### Residuals must be stationary"
   ]
  },
  {
   "cell_type": "code",
   "execution_count": 30,
   "metadata": {
    "ExecuteTime": {
     "end_time": "2022-02-26T19:30:58.074210Z",
     "start_time": "2022-02-26T19:30:57.891873Z"
    }
   },
   "outputs": [
    {
     "data": {
      "text/plain": [
       "(-121.0456477810908,\n",
       " 0.0,\n",
       " 0,\n",
       " 41,\n",
       " {'1%': -3.60098336718852,\n",
       "  '5%': -2.9351348158036012,\n",
       "  '10%': -2.6059629803688282},\n",
       " 395.87020968248294)"
      ]
     },
     "execution_count": 30,
     "metadata": {},
     "output_type": "execute_result"
    }
   ],
   "source": [
    "adfuller(data.res_ret)"
   ]
  },
  {
   "cell_type": "markdown",
   "metadata": {
    "ExecuteTime": {
     "end_time": "2022-02-26T16:37:43.922908Z",
     "start_time": "2022-02-26T16:37:43.816976Z"
    }
   },
   "source": [
    "#### No autocorrelation between residuals"
   ]
  },
  {
   "cell_type": "code",
   "execution_count": 31,
   "metadata": {
    "ExecuteTime": {
     "end_time": "2022-02-26T19:30:58.455161Z",
     "start_time": "2022-02-26T19:30:58.088202Z"
    }
   },
   "outputs": [
    {
     "data": {
      "image/png": "[encoded data removed]",
      "text/plain": [
       "<Figure size 432x288 with 1 Axes>"
      ]
     },
     "metadata": {
      "needs_background": "light"
     },
     "output_type": "display_data"
    }
   ],
   "source": [
    "sgt.plot_pacf(data.res_ret, zero = False, lags = 40)\n",
    "plt.title(\"PACF Of Residuals for Returns\",size=20)\n",
    "plt.show()"
   ]
  },
  {
   "cell_type": "code",
   "execution_count": 32,
   "metadata": {
    "ExecuteTime": {
     "end_time": "2022-02-26T19:30:58.471147Z",
     "start_time": "2022-02-26T19:30:58.459156Z"
    }
   },
   "outputs": [],
   "source": [
    "#### Residuals ust be random"
   ]
  },
  {
   "cell_type": "code",
   "execution_count": 33,
   "metadata": {
    "ExecuteTime": {
     "end_time": "2022-02-26T19:30:59.009583Z",
     "start_time": "2022-02-26T19:30:58.480143Z"
    }
   },
   "outputs": [
    {
     "data": {
      "image/png": "[encoded data removed]",
      "text/plain": [
       "<Figure size 1440x360 with 1 Axes>"
      ]
     },
     "metadata": {
      "needs_background": "light"
     },
     "output_type": "display_data"
    }
   ],
   "source": [
    "data.res_ret.plot(figsize=(20,5))\n",
    "plt.title(\"Residuals of Returns\", size=24)\n",
    "plt.show()"
   ]
  },
  {
   "cell_type": "markdown",
   "metadata": {
    "ExecuteTime": {
     "end_time": "2022-02-26T16:37:44.878327Z",
     "start_time": "2022-02-26T16:37:44.869327Z"
    }
   },
   "source": [
    "### Check for best MA model manually"
   ]
  },
  {
   "cell_type": "code",
   "execution_count": 34,
   "metadata": {
    "ExecuteTime": {
     "end_time": "2022-02-26T19:30:59.341378Z",
     "start_time": "2022-02-26T19:30:59.014580Z"
    }
   },
   "outputs": [
    {
     "data": {
      "image/png": "[encoded data removed]",
      "text/plain": [
       "<Figure size 432x288 with 1 Axes>"
      ]
     },
     "metadata": {
      "needs_background": "light"
     },
     "output_type": "display_data"
    }
   ],
   "source": [
    "#ACF plots\n",
    "sgt.plot_acf(data.Sales,lags=40,zero= False, title='ACF Plot for sales')\n",
    "plt.show()"
   ]
  },
  {
   "cell_type": "markdown",
   "metadata": {},
   "source": [
    "#### Simple MA model"
   ]
  },
  {
   "cell_type": "code",
   "execution_count": 35,
   "metadata": {
    "ExecuteTime": {
     "end_time": "2022-02-26T19:30:59.560251Z",
     "start_time": "2022-02-26T19:30:59.350373Z"
    }
   },
   "outputs": [
    {
     "name": "stderr",
     "output_type": "stream",
     "text": [
      "C:\\Users\\hp\\Anaconda3\\lib\\site-packages\\statsmodels\\tsa\\base\\tsa_model.py:215: ValueWarning: An unsupported index was provided and will be ignored when e.g. forecasting.\n",
      "  ' ignored when e.g. forecasting.', ValueWarning)\n"
     ]
    },
    {
     "data": {
      "text/html": [
       "<table class=\"simpletable\">\n",
       "<caption>ARMA Model Results</caption>\n",
       "<tr>\n",
       "  <th>Dep. Variable:</th>       <td>Sales</td>      <th>  No. Observations:  </th>    <td>42</td>   \n",
       "</tr>\n",
       "<tr>\n",
       "  <th>Model:</th>            <td>ARMA(0, 1)</td>    <th>  Log Likelihood     </th> <td>-333.381</td>\n",
       "</tr>\n",
       "<tr>\n",
       "  <th>Method:</th>             <td>css-mle</td>     <th>  S.D. of innovations</th>  <td>672.608</td>\n",
       "</tr>\n",
       "<tr>\n",
       "  <th>Date:</th>          <td>Sun, 27 Feb 2022</td> <th>  AIC                </th>  <td>672.763</td>\n",
       "</tr>\n",
       "<tr>\n",
       "  <th>Time:</th>              <td>01:00:59</td>     <th>  BIC                </th>  <td>677.976</td>\n",
       "</tr>\n",
       "<tr>\n",
       "  <th>Sample:</th>                <td>0</td>        <th>  HQIC               </th>  <td>674.674</td>\n",
       "</tr>\n",
       "<tr>\n",
       "  <th></th>                       <td> </td>        <th>                     </th>     <td> </td>   \n",
       "</tr>\n",
       "</table>\n",
       "<table class=\"simpletable\">\n",
       "<tr>\n",
       "       <td></td>          <th>coef</th>     <th>std err</th>      <th>z</th>      <th>P>|z|</th>  <th>[0.025</th>    <th>0.975]</th>  \n",
       "</tr>\n",
       "<tr>\n",
       "  <th>const</th>       <td> 3008.1469</td> <td>  173.248</td> <td>   17.363</td> <td> 0.000</td> <td> 2668.587</td> <td> 3347.707</td>\n",
       "</tr>\n",
       "<tr>\n",
       "  <th>ma.L1.Sales</th> <td>    0.6853</td> <td>    0.075</td> <td>    9.116</td> <td> 0.000</td> <td>    0.538</td> <td>    0.833</td>\n",
       "</tr>\n",
       "</table>\n",
       "<table class=\"simpletable\">\n",
       "<caption>Roots</caption>\n",
       "<tr>\n",
       "    <td></td>   <th>            Real</th>  <th>         Imaginary</th> <th>         Modulus</th>  <th>        Frequency</th>\n",
       "</tr>\n",
       "<tr>\n",
       "  <th>MA.1</th> <td>          -1.4592</td> <td>          +0.0000j</td> <td>           1.4592</td> <td>           0.5000</td>\n",
       "</tr>\n",
       "</table>"
      ],
      "text/plain": [
       "<class 'statsmodels.iolib.summary.Summary'>\n",
       "\"\"\"\n",
       "                              ARMA Model Results                              \n",
       "==============================================================================\n",
       "Dep. Variable:                  Sales   No. Observations:                   42\n",
       "Model:                     ARMA(0, 1)   Log Likelihood                -333.381\n",
       "Method:                       css-mle   S.D. of innovations            672.608\n",
       "Date:                Sun, 27 Feb 2022   AIC                            672.763\n",
       "Time:                        01:00:59   BIC                            677.976\n",
       "Sample:                             0   HQIC                           674.674\n",
       "                                                                              \n",
       "===============================================================================\n",
       "                  coef    std err          z      P>|z|      [0.025      0.975]\n",
       "-------------------------------------------------------------------------------\n",
       "const        3008.1469    173.248     17.363      0.000    2668.587    3347.707\n",
       "ma.L1.Sales     0.6853      0.075      9.116      0.000       0.538       0.833\n",
       "                                    Roots                                    \n",
       "=============================================================================\n",
       "                  Real          Imaginary           Modulus         Frequency\n",
       "-----------------------------------------------------------------------------\n",
       "MA.1           -1.4592           +0.0000j            1.4592            0.5000\n",
       "-----------------------------------------------------------------------------\n",
       "\"\"\""
      ]
     },
     "execution_count": 35,
     "metadata": {},
     "output_type": "execute_result"
    }
   ],
   "source": [
    "model_ma1 = ARMA(data.Sales,order = (0,1))\n",
    "result_ma1 = model_ma1.fit()\n",
    "result_ma1.summary()"
   ]
  },
  {
   "cell_type": "markdown",
   "metadata": {},
   "source": [
    "#### Higher-lag MA models for sales"
   ]
  },
  {
   "cell_type": "code",
   "execution_count": 36,
   "metadata": {
    "ExecuteTime": {
     "end_time": "2022-02-26T19:30:59.907159Z",
     "start_time": "2022-02-26T19:30:59.564244Z"
    }
   },
   "outputs": [
    {
     "name": "stderr",
     "output_type": "stream",
     "text": [
      "C:\\Users\\hp\\Anaconda3\\lib\\site-packages\\statsmodels\\tsa\\base\\tsa_model.py:215: ValueWarning: An unsupported index was provided and will be ignored when e.g. forecasting.\n",
      "  ' ignored when e.g. forecasting.', ValueWarning)\n",
      "C:\\Users\\hp\\Anaconda3\\lib\\site-packages\\statsmodels\\base\\model.py:492: HessianInversionWarning: Inverting hessian failed, no bse or cov_params available\n",
      "  'available', HessianInversionWarning)\n"
     ]
    },
    {
     "data": {
      "text/html": [
       "<table class=\"simpletable\">\n",
       "<caption>ARMA Model Results</caption>\n",
       "<tr>\n",
       "  <th>Dep. Variable:</th>       <td>Sales</td>      <th>  No. Observations:  </th>    <td>42</td>   \n",
       "</tr>\n",
       "<tr>\n",
       "  <th>Model:</th>            <td>ARMA(0, 2)</td>    <th>  Log Likelihood     </th> <td>-315.004</td>\n",
       "</tr>\n",
       "<tr>\n",
       "  <th>Method:</th>             <td>css-mle</td>     <th>  S.D. of innovations</th>  <td>403.028</td>\n",
       "</tr>\n",
       "<tr>\n",
       "  <th>Date:</th>          <td>Sun, 27 Feb 2022</td> <th>  AIC                </th>  <td>638.009</td>\n",
       "</tr>\n",
       "<tr>\n",
       "  <th>Time:</th>              <td>01:00:59</td>     <th>  BIC                </th>  <td>644.960</td>\n",
       "</tr>\n",
       "<tr>\n",
       "  <th>Sample:</th>                <td>0</td>        <th>  HQIC               </th>  <td>640.557</td>\n",
       "</tr>\n",
       "<tr>\n",
       "  <th></th>                       <td> </td>        <th>                     </th>     <td> </td>   \n",
       "</tr>\n",
       "</table>\n",
       "<table class=\"simpletable\">\n",
       "<tr>\n",
       "       <td></td>          <th>coef</th>     <th>std err</th>      <th>z</th>      <th>P>|z|</th>  <th>[0.025</th>    <th>0.975]</th>  \n",
       "</tr>\n",
       "<tr>\n",
       "  <th>const</th>       <td> 3038.6913</td> <td>  209.209</td> <td>   14.525</td> <td> 0.000</td> <td> 2628.649</td> <td> 3448.734</td>\n",
       "</tr>\n",
       "<tr>\n",
       "  <th>ma.L1.Sales</th> <td>    1.4327</td> <td>    0.152</td> <td>    9.407</td> <td> 0.000</td> <td>    1.134</td> <td>    1.731</td>\n",
       "</tr>\n",
       "<tr>\n",
       "  <th>ma.L2.Sales</th> <td>    1.0000</td> <td>    0.112</td> <td>    8.935</td> <td> 0.000</td> <td>    0.781</td> <td>    1.219</td>\n",
       "</tr>\n",
       "</table>\n",
       "<table class=\"simpletable\">\n",
       "<caption>Roots</caption>\n",
       "<tr>\n",
       "    <td></td>   <th>            Real</th>  <th>         Imaginary</th> <th>         Modulus</th>  <th>        Frequency</th>\n",
       "</tr>\n",
       "<tr>\n",
       "  <th>MA.1</th> <td>          -0.7163</td> <td>          -0.6978j</td> <td>           1.0000</td> <td>          -0.3771</td>\n",
       "</tr>\n",
       "<tr>\n",
       "  <th>MA.2</th> <td>          -0.7163</td> <td>          +0.6978j</td> <td>           1.0000</td> <td>           0.3771</td>\n",
       "</tr>\n",
       "</table>"
      ],
      "text/plain": [
       "<class 'statsmodels.iolib.summary.Summary'>\n",
       "\"\"\"\n",
       "                              ARMA Model Results                              \n",
       "==============================================================================\n",
       "Dep. Variable:                  Sales   No. Observations:                   42\n",
       "Model:                     ARMA(0, 2)   Log Likelihood                -315.004\n",
       "Method:                       css-mle   S.D. of innovations            403.028\n",
       "Date:                Sun, 27 Feb 2022   AIC                            638.009\n",
       "Time:                        01:00:59   BIC                            644.960\n",
       "Sample:                             0   HQIC                           640.557\n",
       "                                                                              \n",
       "===============================================================================\n",
       "                  coef    std err          z      P>|z|      [0.025      0.975]\n",
       "-------------------------------------------------------------------------------\n",
       "const        3038.6913    209.209     14.525      0.000    2628.649    3448.734\n",
       "ma.L1.Sales     1.4327      0.152      9.407      0.000       1.134       1.731\n",
       "ma.L2.Sales     1.0000      0.112      8.935      0.000       0.781       1.219\n",
       "                                    Roots                                    \n",
       "=============================================================================\n",
       "                  Real          Imaginary           Modulus         Frequency\n",
       "-----------------------------------------------------------------------------\n",
       "MA.1           -0.7163           -0.6978j            1.0000           -0.3771\n",
       "MA.2           -0.7163           +0.6978j            1.0000            0.3771\n",
       "-----------------------------------------------------------------------------\n",
       "\"\"\""
      ]
     },
     "execution_count": 36,
     "metadata": {},
     "output_type": "execute_result"
    }
   ],
   "source": [
    "model_ma2 = ARMA(data.Sales,order = (0,2))\n",
    "result_ma2 = model_ma2.fit()\n",
    "result_ma2.summary()"
   ]
  },
  {
   "cell_type": "code",
   "execution_count": 37,
   "metadata": {
    "ExecuteTime": {
     "end_time": "2022-02-26T19:30:59.939134Z",
     "start_time": "2022-02-26T19:30:59.917144Z"
    }
   },
   "outputs": [
    {
     "data": {
      "text/plain": [
       "0.0"
      ]
     },
     "execution_count": 37,
     "metadata": {},
     "output_type": "execute_result"
    }
   ],
   "source": [
    "LLR_test(result_ma1,result_ma2)"
   ]
  },
  {
   "cell_type": "code",
   "execution_count": 38,
   "metadata": {
    "ExecuteTime": {
     "end_time": "2022-02-26T19:31:00.099231Z",
     "start_time": "2022-02-26T19:30:59.950125Z"
    }
   },
   "outputs": [],
   "source": [
    "#model_ma3 = ARMA(data.Sales,order = (0,3))\n",
    "#result_ma3 = model_ma3.fit()\n",
    "#result_ma3.summary()\n",
    "#Unable to run further due to follwing error- ValueError: Insufficient degrees of freedom to estimate "
   ]
  },
  {
   "cell_type": "code",
   "execution_count": 39,
   "metadata": {
    "ExecuteTime": {
     "end_time": "2022-02-26T19:31:01.275120Z",
     "start_time": "2022-02-26T19:31:00.103226Z"
    }
   },
   "outputs": [
    {
     "name": "stderr",
     "output_type": "stream",
     "text": [
      "C:\\Users\\hp\\Anaconda3\\lib\\site-packages\\statsmodels\\tsa\\base\\tsa_model.py:215: ValueWarning: An unsupported index was provided and will be ignored when e.g. forecasting.\n",
      "  ' ignored when e.g. forecasting.', ValueWarning)\n",
      "C:\\Users\\hp\\Anaconda3\\lib\\site-packages\\statsmodels\\base\\model.py:492: HessianInversionWarning: Inverting hessian failed, no bse or cov_params available\n",
      "  'available', HessianInversionWarning)\n"
     ]
    },
    {
     "data": {
      "text/html": [
       "<table class=\"simpletable\">\n",
       "<caption>ARMA Model Results</caption>\n",
       "<tr>\n",
       "  <th>Dep. Variable:</th>       <td>Sales</td>      <th>  No. Observations:  </th>    <td>42</td>   \n",
       "</tr>\n",
       "<tr>\n",
       "  <th>Model:</th>            <td>ARMA(0, 4)</td>    <th>  Log Likelihood     </th> <td>-310.842</td>\n",
       "</tr>\n",
       "<tr>\n",
       "  <th>Method:</th>             <td>css-mle</td>     <th>  S.D. of innovations</th>  <td>351.224</td>\n",
       "</tr>\n",
       "<tr>\n",
       "  <th>Date:</th>          <td>Sun, 27 Feb 2022</td> <th>  AIC                </th>  <td>633.684</td>\n",
       "</tr>\n",
       "<tr>\n",
       "  <th>Time:</th>              <td>01:01:01</td>     <th>  BIC                </th>  <td>644.110</td>\n",
       "</tr>\n",
       "<tr>\n",
       "  <th>Sample:</th>                <td>0</td>        <th>  HQIC               </th>  <td>637.506</td>\n",
       "</tr>\n",
       "<tr>\n",
       "  <th></th>                       <td> </td>        <th>                     </th>     <td> </td>   \n",
       "</tr>\n",
       "</table>\n",
       "<table class=\"simpletable\">\n",
       "<tr>\n",
       "       <td></td>          <th>coef</th>     <th>std err</th>      <th>z</th>      <th>P>|z|</th>  <th>[0.025</th>    <th>0.975]</th>  \n",
       "</tr>\n",
       "<tr>\n",
       "  <th>const</th>       <td> 3032.5270</td> <td>  205.976</td> <td>   14.723</td> <td> 0.000</td> <td> 2628.821</td> <td> 3436.233</td>\n",
       "</tr>\n",
       "<tr>\n",
       "  <th>ma.L1.Sales</th> <td>    0.7184</td> <td>    0.128</td> <td>    5.600</td> <td> 0.000</td> <td>    0.467</td> <td>    0.970</td>\n",
       "</tr>\n",
       "<tr>\n",
       "  <th>ma.L2.Sales</th> <td>    0.5370</td> <td>    0.131</td> <td>    4.092</td> <td> 0.000</td> <td>    0.280</td> <td>    0.794</td>\n",
       "</tr>\n",
       "<tr>\n",
       "  <th>ma.L3.Sales</th> <td>    0.7184</td> <td>    0.148</td> <td>    4.859</td> <td> 0.000</td> <td>    0.429</td> <td>    1.008</td>\n",
       "</tr>\n",
       "<tr>\n",
       "  <th>ma.L4.Sales</th> <td>    1.0000</td> <td>    0.130</td> <td>    7.709</td> <td> 0.000</td> <td>    0.746</td> <td>    1.254</td>\n",
       "</tr>\n",
       "</table>\n",
       "<table class=\"simpletable\">\n",
       "<caption>Roots</caption>\n",
       "<tr>\n",
       "    <td></td>   <th>            Real</th>  <th>         Imaginary</th> <th>         Modulus</th>  <th>        Frequency</th>\n",
       "</tr>\n",
       "<tr>\n",
       "  <th>MA.1</th> <td>           0.4513</td> <td>          -0.8924j</td> <td>           1.0000</td> <td>          -0.1755</td>\n",
       "</tr>\n",
       "<tr>\n",
       "  <th>MA.2</th> <td>           0.4513</td> <td>          +0.8924j</td> <td>           1.0000</td> <td>           0.1755</td>\n",
       "</tr>\n",
       "<tr>\n",
       "  <th>MA.3</th> <td>          -0.8105</td> <td>          -0.5858j</td> <td>           1.0000</td> <td>          -0.4004</td>\n",
       "</tr>\n",
       "<tr>\n",
       "  <th>MA.4</th> <td>          -0.8105</td> <td>          +0.5858j</td> <td>           1.0000</td> <td>           0.4004</td>\n",
       "</tr>\n",
       "</table>"
      ],
      "text/plain": [
       "<class 'statsmodels.iolib.summary.Summary'>\n",
       "\"\"\"\n",
       "                              ARMA Model Results                              \n",
       "==============================================================================\n",
       "Dep. Variable:                  Sales   No. Observations:                   42\n",
       "Model:                     ARMA(0, 4)   Log Likelihood                -310.842\n",
       "Method:                       css-mle   S.D. of innovations            351.224\n",
       "Date:                Sun, 27 Feb 2022   AIC                            633.684\n",
       "Time:                        01:01:01   BIC                            644.110\n",
       "Sample:                             0   HQIC                           637.506\n",
       "                                                                              \n",
       "===============================================================================\n",
       "                  coef    std err          z      P>|z|      [0.025      0.975]\n",
       "-------------------------------------------------------------------------------\n",
       "const        3032.5270    205.976     14.723      0.000    2628.821    3436.233\n",
       "ma.L1.Sales     0.7184      0.128      5.600      0.000       0.467       0.970\n",
       "ma.L2.Sales     0.5370      0.131      4.092      0.000       0.280       0.794\n",
       "ma.L3.Sales     0.7184      0.148      4.859      0.000       0.429       1.008\n",
       "ma.L4.Sales     1.0000      0.130      7.709      0.000       0.746       1.254\n",
       "                                    Roots                                    \n",
       "=============================================================================\n",
       "                  Real          Imaginary           Modulus         Frequency\n",
       "-----------------------------------------------------------------------------\n",
       "MA.1            0.4513           -0.8924j            1.0000           -0.1755\n",
       "MA.2            0.4513           +0.8924j            1.0000            0.1755\n",
       "MA.3           -0.8105           -0.5858j            1.0000           -0.4004\n",
       "MA.4           -0.8105           +0.5858j            1.0000            0.4004\n",
       "-----------------------------------------------------------------------------\n",
       "\"\"\""
      ]
     },
     "execution_count": 39,
     "metadata": {},
     "output_type": "execute_result"
    }
   ],
   "source": [
    "model_ma4 = ARMA(data.Sales,order = (0,4))\n",
    "result_ma4 = model_ma4.fit()\n",
    "result_ma4.summary()"
   ]
  },
  {
   "cell_type": "code",
   "execution_count": 40,
   "metadata": {
    "ExecuteTime": {
     "end_time": "2022-02-26T19:31:01.291111Z",
     "start_time": "2022-02-26T19:31:01.280114Z"
    }
   },
   "outputs": [
    {
     "data": {
      "text/plain": [
       "0.004"
      ]
     },
     "execution_count": 40,
     "metadata": {},
     "output_type": "execute_result"
    }
   ],
   "source": [
    "LLR_test(result_ma2,result_ma4)"
   ]
  },
  {
   "cell_type": "code",
   "execution_count": 41,
   "metadata": {
    "ExecuteTime": {
     "end_time": "2022-02-26T19:31:01.435018Z",
     "start_time": "2022-02-26T19:31:01.298106Z"
    }
   },
   "outputs": [],
   "source": [
    "#model_ma5 = ARMA(data.Sales,order = (0,5))\n",
    "#result_ma5 = model_ma5.fit()\n",
    "#result_ma5.summary()\n",
    "#Unable to run further due to follwing error- ValueError: Insufficient degrees of freedom to estimate "
   ]
  },
  {
   "cell_type": "markdown",
   "metadata": {},
   "source": [
    "### Analysing the residuals"
   ]
  },
  {
   "cell_type": "code",
   "execution_count": 42,
   "metadata": {
    "ExecuteTime": {
     "end_time": "2022-02-26T19:31:01.623407Z",
     "start_time": "2022-02-26T19:31:01.439018Z"
    }
   },
   "outputs": [],
   "source": [
    "data['res_ret_ma'] = result_ma4.resid"
   ]
  },
  {
   "cell_type": "code",
   "execution_count": 43,
   "metadata": {
    "ExecuteTime": {
     "end_time": "2022-02-26T19:31:01.764702Z",
     "start_time": "2022-02-26T19:31:01.651391Z"
    }
   },
   "outputs": [
    {
     "data": {
      "text/plain": [
       "-5.783167689398846"
      ]
     },
     "execution_count": 43,
     "metadata": {},
     "output_type": "execute_result"
    }
   ],
   "source": [
    "data.res_ret_ma.mean()"
   ]
  },
  {
   "cell_type": "code",
   "execution_count": 44,
   "metadata": {
    "ExecuteTime": {
     "end_time": "2022-02-26T19:31:01.860285Z",
     "start_time": "2022-02-26T19:31:01.769698Z"
    }
   },
   "outputs": [
    {
     "data": {
      "text/plain": [
       "180673.03479285463"
      ]
     },
     "execution_count": 44,
     "metadata": {},
     "output_type": "execute_result"
    }
   ],
   "source": [
    "data.res_ret_ma.var()"
   ]
  },
  {
   "cell_type": "markdown",
   "metadata": {},
   "source": [
    "#### Residuals must be stationary"
   ]
  },
  {
   "cell_type": "code",
   "execution_count": 45,
   "metadata": {
    "ExecuteTime": {
     "end_time": "2022-02-26T19:31:02.033518Z",
     "start_time": "2022-02-26T19:31:01.864285Z"
    }
   },
   "outputs": [
    {
     "data": {
      "text/plain": [
       "(1.1520389925736645,\n",
       " 0.9956371742405717,\n",
       " 10,\n",
       " 31,\n",
       " {'1%': -3.661428725118324,\n",
       "  '5%': -2.960525341210433,\n",
       "  '10%': -2.6193188033298647},\n",
       " 397.47595162208654)"
      ]
     },
     "execution_count": 45,
     "metadata": {},
     "output_type": "execute_result"
    }
   ],
   "source": [
    "adfuller(data.res_ret_ma)"
   ]
  },
  {
   "cell_type": "code",
   "execution_count": 46,
   "metadata": {
    "ExecuteTime": {
     "end_time": "2022-02-26T19:31:02.143449Z",
     "start_time": "2022-02-26T19:31:02.042514Z"
    }
   },
   "outputs": [],
   "source": [
    "#### No autocorrelation between residuals"
   ]
  },
  {
   "cell_type": "code",
   "execution_count": 47,
   "metadata": {
    "ExecuteTime": {
     "end_time": "2022-02-26T19:31:02.602667Z",
     "start_time": "2022-02-26T19:31:02.148447Z"
    }
   },
   "outputs": [
    {
     "data": {
      "image/png": "[encoded data removed]",
      "text/plain": [
       "<Figure size 432x288 with 1 Axes>"
      ]
     },
     "metadata": {
      "needs_background": "light"
     },
     "output_type": "display_data"
    }
   ],
   "source": [
    "sgt.plot_acf(data.res_ret_ma, zero = False, lags = 40)\n",
    "plt.title(\"ACF Of Residuals for Returns\",size=24)\n",
    "plt.show()"
   ]
  },
  {
   "cell_type": "markdown",
   "metadata": {},
   "source": [
    "## ARIMA model"
   ]
  },
  {
   "cell_type": "code",
   "execution_count": 48,
   "metadata": {
    "ExecuteTime": {
     "end_time": "2022-02-26T19:31:02.618659Z",
     "start_time": "2022-02-26T19:31:02.608664Z"
    }
   },
   "outputs": [],
   "source": [
    "#### ARIMA Hyperparameters"
   ]
  },
  {
   "cell_type": "code",
   "execution_count": 49,
   "metadata": {
    "ExecuteTime": {
     "end_time": "2022-02-26T19:31:02.744325Z",
     "start_time": "2022-02-26T19:31:02.622655Z"
    }
   },
   "outputs": [],
   "source": [
    "# grid search ARIMA parameters for a time series\n",
    "\n",
    "# evaluate an ARIMA model for a given order (p,d,q) and return RMSE\n",
    "def evaluate_arima_model(X, arima_order):\n",
    "# prepare training dataset\n",
    "    X = X.astype('float32')\n",
    "    train_size = int(len(X) * 0.50)\n",
    "    train, test = X[0:train_size], X[train_size:]\n",
    "    history = [x for x in train]\n",
    "# make predictions\n",
    "    predictions = list()\n",
    "    for t in range(len(test)):\n",
    "        model = ARIMA(history, order=arima_order)\n",
    "# model_fit = model.fit(disp=0)\n",
    "        model_fit = model.fit(disp=0)\n",
    "        yhat = model_fit.forecast()[0]\n",
    "        predictions.append(yhat)\n",
    "        history.append(test[t])\n",
    "# calculate out of sample error\n",
    "    rmse = sqrt(mean_squared_error(test, predictions))\n",
    "    return rmse "
   ]
  },
  {
   "cell_type": "markdown",
   "metadata": {},
   "source": [
    "#### Grid search for p,d,q values"
   ]
  },
  {
   "cell_type": "code",
   "execution_count": 50,
   "metadata": {
    "ExecuteTime": {
     "end_time": "2022-02-26T19:31:02.855235Z",
     "start_time": "2022-02-26T19:31:02.758296Z"
    }
   },
   "outputs": [],
   "source": [
    "# evaluate combinations of p, d and q values for an ARIMA model\n",
    "def evaluate_models(dataset, p_values, d_values, q_values):\n",
    "    dataset = dataset.astype('float32')\n",
    "    best_score, best_cfg = float('inf'), None\n",
    "    for p in p_values:\n",
    "        for d in d_values:\n",
    "            for q in q_values:\n",
    "                order = (p,d,q)\n",
    "                try:\n",
    "                    rmse = evaluate_arima_model(train, order)\n",
    "                    if rmse < best_score:\n",
    "                        best_score, best_cfg = rmse, order\n",
    "                    print('ARIMA%s RMSE=%.3f' % (order,rmse))\n",
    "                except:\n",
    "                    continue\n",
    "    print('Best ARIMA%s RMSE=%.3f' % (best_cfg, best_score))"
   ]
  },
  {
   "cell_type": "markdown",
   "metadata": {},
   "source": [
    "#### Finding the best parameters"
   ]
  },
  {
   "cell_type": "code",
   "execution_count": 51,
   "metadata": {
    "ExecuteTime": {
     "end_time": "2022-02-26T19:33:19.906326Z",
     "start_time": "2022-02-26T19:31:02.861230Z"
    }
   },
   "outputs": [
    {
     "name": "stdout",
     "output_type": "stream",
     "text": [
      "ARIMA(0, 0, 0) RMSE=1351.795\n",
      "ARIMA(0, 0, 1) RMSE=932.184\n",
      "ARIMA(0, 0, 2) RMSE=557.680\n",
      "ARIMA(0, 1, 0) RMSE=522.798\n",
      "ARIMA(0, 1, 1) RMSE=483.542\n",
      "ARIMA(0, 1, 2) RMSE=454.200\n",
      "ARIMA(0, 1, 4) RMSE=292.540\n",
      "ARIMA(0, 2, 0) RMSE=753.961\n",
      "ARIMA(0, 2, 1) RMSE=542.823\n",
      "ARIMA(1, 0, 0) RMSE=579.704\n",
      "ARIMA(1, 0, 1) RMSE=550.756\n",
      "ARIMA(1, 1, 0) RMSE=521.767\n",
      "ARIMA(1, 1, 1) RMSE=472.269\n",
      "ARIMA(1, 2, 0) RMSE=760.131\n",
      "ARIMA(1, 2, 1) RMSE=543.216\n",
      "ARIMA(2, 0, 0) RMSE=584.883\n",
      "ARIMA(2, 0, 1) RMSE=535.550\n",
      "ARIMA(2, 1, 0) RMSE=372.795\n",
      "ARIMA(2, 1, 1) RMSE=348.598\n",
      "ARIMA(2, 2, 0) RMSE=627.362\n",
      "ARIMA(2, 2, 1) RMSE=379.105\n",
      "ARIMA(3, 0, 0) RMSE=447.834\n",
      "ARIMA(3, 1, 0) RMSE=259.470\n",
      "ARIMA(4, 0, 0) RMSE=393.713\n",
      "ARIMA(4, 1, 0) RMSE=167.867\n",
      "Best ARIMA(4, 1, 0) RMSE=167.867\n"
     ]
    }
   ],
   "source": [
    "# load dataset\n",
    "train = data.Sales.copy()\n",
    "# evaluate parameters\n",
    "p_values = range(0, 5)\n",
    "d_values = range(0, 5)\n",
    "q_values = range(0, 5)\n",
    "warnings.filterwarnings(\"ignore\")\n",
    "evaluate_models(train.values, p_values, d_values, q_values)   "
   ]
  },
  {
   "cell_type": "markdown",
   "metadata": {},
   "source": [
    "#### Best parameters to use in ARIMA model are p=3, d=1, q=0 ---->  (4,1,0)"
   ]
  },
  {
   "cell_type": "markdown",
   "metadata": {},
   "source": [
    "### Final Model"
   ]
  },
  {
   "cell_type": "code",
   "execution_count": 52,
   "metadata": {
    "ExecuteTime": {
     "end_time": "2022-02-26T19:33:20.953822Z",
     "start_time": "2022-02-26T19:33:19.914321Z"
    }
   },
   "outputs": [
    {
     "data": {
      "image/png": "[encoded data removed]",
      "text/plain": [
       "<Figure size 432x288 with 1 Axes>"
      ]
     },
     "execution_count": 52,
     "metadata": {},
     "output_type": "execute_result"
    },
    {
     "data": {
      "image/png": "[encoded data removed]",
      "text/plain": [
       "<Figure size 432x288 with 1 Axes>"
      ]
     },
     "metadata": {
      "needs_background": "light"
     },
     "output_type": "display_data"
    }
   ],
   "source": [
    "# fitting the final model, forecasting for 10 steps and plotting the predictions\n",
    "model = ARIMA(data.Sales, order=(4,1,0))\n",
    "model_fit = model.fit()\n",
    "forecast=model_fit.forecast(steps=10)[0]\n",
    "model_fit.plot_predict(1, 50) "
   ]
  },
  {
   "cell_type": "code",
   "execution_count": 53,
   "metadata": {
    "ExecuteTime": {
     "end_time": "2022-02-26T19:33:20.985804Z",
     "start_time": "2022-02-26T19:33:20.958818Z"
    }
   },
   "outputs": [
    {
     "data": {
      "text/plain": [
       "Quarter\n",
       "Q2_95    4936.0\n",
       "Q3_95    4895.0\n",
       "Q4_95    4333.0\n",
       "Q1_96    4194.0\n",
       "Q2_96    5253.0\n",
       "Name: Sales, dtype: float64"
      ]
     },
     "execution_count": 53,
     "metadata": {},
     "output_type": "execute_result"
    }
   ],
   "source": [
    "data.Sales.tail()"
   ]
  },
  {
   "cell_type": "code",
   "execution_count": 54,
   "metadata": {
    "ExecuteTime": {
     "end_time": "2022-02-26T19:33:21.176131Z",
     "start_time": "2022-02-26T19:33:20.990805Z"
    }
   },
   "outputs": [
    {
     "data": {
      "text/plain": [
       "array([5183.6510294 , 4605.85158597, 4517.98633723, 5510.79623601,\n",
       "       5425.02495695, 4847.15398409, 4811.67285786, 5748.48462791,\n",
       "       5649.6827266 , 5079.57062333])"
      ]
     },
     "execution_count": 54,
     "metadata": {},
     "output_type": "execute_result"
    }
   ],
   "source": [
    "#Forecasted data for next 10 quarters\n",
    "forecast"
   ]
  },
  {
   "cell_type": "code",
   "execution_count": null,
   "metadata": {},
   "outputs": [],
   "source": []
  }
 ],
 "metadata": {
  "kernelspec": {
   "display_name": "Python 3",
   "language": "python",
   "name": "python3"
  },
  "language_info": {
   "codemirror_mode": {
    "name": "ipython",
    "version": 3
   },
   "file_extension": ".py",
   "mimetype": "text/x-python",
   "name": "python",
   "nbconvert_exporter": "python",
   "pygments_lexer": "ipython3",
   "version": "3.7.4"
  },
  "varInspector": {
   "cols": {
    "lenName": 16,
    "lenType": 16,
    "lenVar": 40
   },
   "kernels_config": {
    "python": {
     "delete_cmd_postfix": "",
     "delete_cmd_prefix": "del ",
     "library": "var_list.py",
     "varRefreshCmd": "print(var_dic_list())"
    },
    "r": {
     "delete_cmd_postfix": ") ",
     "delete_cmd_prefix": "rm(",
     "library": "var_list.r",
     "varRefreshCmd": "cat(var_dic_list()) "
    }
   },
   "types_to_exclude": [
    "module",
    "function",
    "builtin_function_or_method",
    "instance",
    "_Feature"
   ],
   "window_display": false
  }
 },
 "nbformat": 4,
 "nbformat_minor": 2
}
